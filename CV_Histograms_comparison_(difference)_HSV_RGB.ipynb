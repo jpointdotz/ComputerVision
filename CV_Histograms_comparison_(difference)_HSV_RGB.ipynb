{
 "cells": [
  {
   "cell_type": "code",
   "execution_count": 1,
   "id": "35172e64",
   "metadata": {},
   "outputs": [
    {
     "name": "stderr",
     "output_type": "stream",
     "text": [
      "C:\\Users\\jan.zarnay\\AppData\\Local\\Packages\\PythonSoftwareFoundation.Python.3.9_qbz5n2kfra8p0\\LocalCache\\local-packages\\Python39\\site-packages\\scipy\\__init__.py:138: UserWarning: A NumPy version >=1.16.5 and <1.23.0 is required for this version of SciPy (detected version 1.23.2)\n",
      "  warnings.warn(f\"A NumPy version >={np_minversion} and <{np_maxversion} is required for this version of \"\n"
     ]
    }
   ],
   "source": [
    "import cv2\n",
    "import pandas as pd\n",
    "import numpy as np\n",
    "import matplotlib.pyplot as plt\n",
    "import seaborn as sns\n",
    "import os\n",
    "\n",
    "import time"
   ]
  },
  {
   "cell_type": "code",
   "execution_count": 347,
   "id": "bf799411",
   "metadata": {},
   "outputs": [],
   "source": [
    "# set the path for images\n",
    "path = './Images'"
   ]
  },
  {
   "cell_type": "code",
   "execution_count": 319,
   "id": "57f14f31",
   "metadata": {},
   "outputs": [],
   "source": [
    "def show_image(list_images):\n",
    "    for i in list_images:\n",
    "        cv2.imshow('image', i)\n",
    "        cv2.waitKey(0)\n",
    "    cv2.destroyAllWindows()"
   ]
  },
  {
   "cell_type": "code",
   "execution_count": 4,
   "id": "4662c032",
   "metadata": {},
   "outputs": [],
   "source": [
    "def hsv_resized(image):\n",
    "\n",
    "    read_img = cv2.imread(image)\n",
    "    width, height = read_img.shape[:2]\n",
    "\n",
    "    width_resized = width // 2\n",
    "    height_resized = height // 2\n",
    "    \n",
    "    res_image = cv2.resize(read_img, (height_resized, width_resized))\n",
    "    hsv = cv2.cvtColor(res_image, cv2.COLOR_BGR2HSV)\n",
    "\n",
    "    return hsv, res_image"
   ]
  },
  {
   "cell_type": "code",
   "execution_count": 5,
   "id": "7cc7f492",
   "metadata": {},
   "outputs": [],
   "source": [
    "def histogram(image):\n",
    "    h_bins = 50  # hue\n",
    "    s_bins = 60  # saturation\n",
    "    histSize = [h_bins, s_bins, 256]\n",
    "\n",
    "    h_ranges = [0,180]  # hue range 0 - 179\n",
    "    s_ranges = [0,256]  # saturation range 0 - 255\n",
    "    \n",
    "    ranges = h_ranges + s_ranges + 256\n",
    "\n",
    "    h, s, v = image[:,:,0], image[:,:,1], image[:,:,2]\n",
    "\n",
    "    hist = cv2.calcHist([image], [0,1,2], None, histSize, ranges, accumulate = False)\n",
    "    hist = cv2.normalize(hist, hist, alpha=0, beta=1, norm_type=cv2.NORM_MINMAX)\n",
    "\n",
    "    return hist.flatten(), h, s"
   ]
  },
  {
   "cell_type": "code",
   "execution_count": 320,
   "id": "a7059f23",
   "metadata": {},
   "outputs": [],
   "source": [
    "## to be used for HSV color space\n",
    "\n",
    "# image_1, image_col_1= hsv_resized(os.path.join(path, 'AirJordanFull.jpg'))\n",
    "\n",
    "# image_2, image_col_2 = hsv_resized(os.path.join(path, 'AirJordanCut.jpg'))"
   ]
  },
  {
   "cell_type": "code",
   "execution_count": 328,
   "id": "010126cf",
   "metadata": {},
   "outputs": [],
   "source": [
    "# to be used for RGB color space\n",
    "\n",
    "image_col_1= cv2.imread(os.path.join(path, 'AirJordanFull.jpg'))\n",
    "image_1 = image_col_1\n",
    "\n",
    "image_col_2 = cv2.imread(os.path.join(path, 'AirJordanCut.jpg'))\n",
    "image_2 = image_col_2"
   ]
  },
  {
   "cell_type": "code",
   "execution_count": 329,
   "id": "85d05101",
   "metadata": {},
   "outputs": [],
   "source": [
    "show_image([image_1, image_2])"
   ]
  },
  {
   "cell_type": "code",
   "execution_count": 330,
   "id": "01d52bcc",
   "metadata": {},
   "outputs": [],
   "source": [
    "height, width, layers = image_col_1.shape"
   ]
  },
  {
   "cell_type": "code",
   "execution_count": 350,
   "id": "bba36cb6",
   "metadata": {},
   "outputs": [
    {
     "name": "stdout",
     "output_type": "stream",
     "text": [
      "[INFO] Height: 1140, width: 1600, layers: 3\n"
     ]
    }
   ],
   "source": [
    "print(f'[INFO] Height: {height}, width: {width}, layers: {layers}')"
   ]
  },
  {
   "cell_type": "code",
   "execution_count": 332,
   "id": "75696a73",
   "metadata": {},
   "outputs": [
    {
     "name": "stdout",
     "output_type": "stream",
     "text": [
      "[INFO] Columns: 15, width_column: 106.66666666666667, rows: 15, height_row; 76.0 n_segments: 225 \n",
      "\n",
      "[INFO] Width_column has to be int number!\n",
      "[INFO] New value for columns: 16, width_column: 100.0\n",
      "\n",
      "[INFO] Final dimensions:\n",
      "[INFO] Columns: 16, width_column: 100.0, rows: 15, height_row; 76.0 n_segments: 240 \n",
      "\n"
     ]
    }
   ],
   "source": [
    "columns = 15\n",
    "rows = 15\n",
    "\n",
    "# use \"/\" instead of \"//\" to being able correctly reshape the list for seaborn heatmap\n",
    "# not important for histogram comparison\n",
    "# if not column widht or height row not int, first higher column or row if true set up\n",
    "\n",
    "width_column =  width / columns \n",
    "height_row = height / rows\n",
    "n_segments = columns * rows\n",
    "\n",
    "width_column, height_row, n_segments\n",
    "\n",
    "print(f'[INFO] Columns: {columns}, width_column: {width_column}, rows: {rows}, height_row; {height_row} n_segments: {n_segments}', '\\n')\n",
    "\n",
    "if width % columns != 0:\n",
    "    print(f'[INFO] Width_column has to be int number!')\n",
    "    for i in range(1,100):\n",
    "        columns = columns + 1\n",
    "        if width % columns == 0:\n",
    "            width_column = width / columns\n",
    "            print(f'[INFO] New value for columns: {columns}, width_column: {width_column}')\n",
    "            break\n",
    "             \n",
    "        \n",
    "if height % rows != 0:\n",
    "    print(f'\\n[INFO] Height_row has to be int number!')\n",
    "    for j in range(1,100):\n",
    "        rows = rows + 1\n",
    "        if height % rows == 0:\n",
    "            height_row = height / rows\n",
    "            print(f'[INFO] New value for rows: {rows}, height_row: {height_row}')\n",
    "            break\n",
    "            \n",
    "n_segments = columns * rows\n",
    "\n",
    "print(f'\\n[INFO] Final dimensions:')\n",
    "print(f'[INFO] Columns: {columns}, width_column: {width_column}, rows: {rows}, height_row; {height_row} n_segments: {n_segments}', '\\n')\n",
    "\n",
    "# set to int for further processing\n",
    "width_column = int(width_column)\n",
    "height_row = int(height_row)"
   ]
  },
  {
   "cell_type": "code",
   "execution_count": 216,
   "id": "d113fa92",
   "metadata": {},
   "outputs": [],
   "source": [
    "### for H, S only in that color space, seems to be too sensitive\n",
    "\n",
    "def hist_roi(image):\n",
    "    \n",
    "    segments = []\n",
    "    histograms = []\n",
    "        \n",
    "    for i in range(0, height, height_row):\n",
    "        for j in range(0, width, width_column):\n",
    "            \n",
    "            ROI = image[i:i + height_row, j:j + width_column]\n",
    "            hist = cv2.calcHist([ROI], [0,1], None, [180,256], [0,180,0,256], accumulate = False)\n",
    "            hist = cv2.normalize(hist, hist, alpha=0, beta=1, norm_type=cv2.NORM_MINMAX)\n",
    "            segments.append(ROI)\n",
    "            hist = hist.flatten()\n",
    "            histograms.append(hist)\n",
    "        \n",
    "    return segments, histograms"
   ]
  },
  {
   "cell_type": "code",
   "execution_count": 217,
   "id": "8062abe8",
   "metadata": {},
   "outputs": [],
   "source": [
    "### for all 3 channels H, S, V in that color space, longer than H, S only\n",
    "\n",
    "def hist_HSV(image):\n",
    "    hsv = cv2.cvtColor(image, cv2.COLOR_BGR2HSV)\n",
    "    \n",
    "    ROIs = []\n",
    "    hists = []\n",
    "    \n",
    "    for i in range(0,height,height_row):\n",
    "        for j in range(0,width,width_column):\n",
    "            ROI = hsv[i:i+height_row, j:j+width_column]\n",
    "            hist = cv2.calcHist([ROI], [0,1,2], None, [180, 256, 256] , [0,180,0,256,0,256], accumulate = None)\n",
    "            hist = cv2.normalize(hist, hist, alpha=0, beta=1, norm_type=cv2.NORM_MINMAX)\n",
    "            \n",
    "            ROIs.append(ROI)\n",
    "            hists.append(hist)\n",
    "            \n",
    "    return ROIs, hists"
   ]
  },
  {
   "cell_type": "code",
   "execution_count": 218,
   "id": "0b473aed",
   "metadata": {},
   "outputs": [],
   "source": [
    "# compare_method_names = {'0' : 'Correlation ', '1' : 'Chi_square  ', '2':'Intersection', '3':'Bhatacharyya'}"
   ]
  },
  {
   "cell_type": "code",
   "execution_count": 333,
   "id": "d6c93429",
   "metadata": {},
   "outputs": [],
   "source": [
    "### for R, G, B in that color space, takes much time for real life situation\n",
    "\n",
    "def hist_RGB(image):\n",
    "    hsv = cv2.cvtColor(image, cv2.COLOR_BGR2RGB)\n",
    "    \n",
    "    ROIs = []\n",
    "    hists = []\n",
    "    \n",
    "    for i in range(0,height,height_row):\n",
    "        for j in range(0,width,width_column):\n",
    "            ROI = hsv[i:i+width_column, j:j+height_row]\n",
    "            # changed to 8 bins per color to decrease computing time\n",
    "            hist = cv2.calcHist([ROI], [0,1,2], None, [8, 8, 8] , [0,256,0,256,0,256], accumulate = None)\n",
    "            hist = cv2.normalize(hist, hist, alpha=0, beta=1, norm_type=cv2.NORM_MINMAX)\n",
    "            hist = hist.flatten()\n",
    "            ROIs.append(ROI)\n",
    "            hists.append(hist)\n",
    "            \n",
    "    return ROIs, hists"
   ]
  },
  {
   "cell_type": "code",
   "execution_count": 220,
   "id": "08619712",
   "metadata": {},
   "outputs": [
    {
     "name": "stdout",
     "output_type": "stream",
     "text": [
      "[INFO] Process time: 0.15625 s\n"
     ]
    }
   ],
   "source": [
    "t = time.process_time()\n",
    "\n",
    "seg_1, hist_1 = hist_roi(image_1)\n",
    "seg_2, hist_2 = hist_roi(image_2)\n",
    "\n",
    "elapsed_time = time.process_time() - t\n",
    "print(f'[INFO] Process time: {elapsed_time} s')"
   ]
  },
  {
   "cell_type": "code",
   "execution_count": 221,
   "id": "ee1d59f1",
   "metadata": {},
   "outputs": [],
   "source": [
    "# seg_1, hist_1 = hist_HSV(image_1)\n",
    "# seg_2, hist_2 = hist_HSV(image_2)"
   ]
  },
  {
   "cell_type": "code",
   "execution_count": 334,
   "id": "eacb8aeb",
   "metadata": {},
   "outputs": [
    {
     "name": "stdout",
     "output_type": "stream",
     "text": [
      "[INFO] Process time: 0.03125 s\n"
     ]
    }
   ],
   "source": [
    "t = time.process_time()\n",
    "\n",
    "seg_1, hist_1 = hist_RGB(image_col_1)\n",
    "seg_2, hist_2 = hist_RGB(image_col_2)\n",
    "\n",
    "elapsed_time = time.process_time() - t\n",
    "print(f'[INFO] Process time: {elapsed_time} s')"
   ]
  },
  {
   "cell_type": "code",
   "execution_count": 335,
   "id": "46b42812",
   "metadata": {},
   "outputs": [
    {
     "data": {
      "text/plain": [
       "512"
      ]
     },
     "execution_count": 335,
     "metadata": {},
     "output_type": "execute_result"
    }
   ],
   "source": [
    "len(hist_1[0])"
   ]
  },
  {
   "cell_type": "code",
   "execution_count": 336,
   "id": "44782a27",
   "metadata": {},
   "outputs": [
    {
     "name": "stdout",
     "output_type": "stream",
     "text": [
      "[INFO] Length of his_1: 240\n",
      "[INFO] Length of his_2: 240\n",
      "\n",
      "[INFO] Length of seg_1: 240\n",
      "[INFO] Length of seg_2: 240\n"
     ]
    }
   ],
   "source": [
    "print(f'[INFO] Length of his_1: {len(hist_1)}')\n",
    "print(f'[INFO] Length of his_2: {len(hist_2)}')\n",
    "print(f'\\n[INFO] Length of seg_1: {len(seg_1)}')\n",
    "print(f'[INFO] Length of seg_2: {len(seg_2)}')    "
   ]
  },
  {
   "cell_type": "code",
   "execution_count": 337,
   "id": "c0393257",
   "metadata": {},
   "outputs": [
    {
     "name": "stdout",
     "output_type": "stream",
     "text": [
      "[INFO] Image saved!\n"
     ]
    }
   ],
   "source": [
    "# make matrix of segments + print number of segment into each cell + stack the images + write the image \n",
    "\n",
    "img1 = image_col_1.copy()\n",
    "img2 = image_col_2.copy()\n",
    "\n",
    "white = (255,255,255)\n",
    "black = (0,0,0)\n",
    "blue = (255,0,0)\n",
    "\n",
    "def image_matrix (img):\n",
    "    \n",
    "    x = 0\n",
    "    y = 0\n",
    "    \n",
    "    for i in range(0,height, height_row):\n",
    "        cv2.line(img, (0,i), (width,i), black,1)\n",
    "\n",
    "    for j in range(0,width, width_column):\n",
    "        cv2.line(img, (j,0),(j, height), black,1)\n",
    "\n",
    "### to check !!!! ###\n",
    "    for i in range(0,height,height_row):\n",
    "        for j in range(0,width,width_column):      \n",
    "            cv2.putText(img, str(x), (j+(width_column//3),i+(height_row//3)), cv2.FONT_HERSHEY_SIMPLEX, 0.5, black, 1)\n",
    "            x = x + 1\n",
    "            \n",
    "##################            \n",
    "                \n",
    "    return img\n",
    "\n",
    "def stack_images(img1, img2):\n",
    "    im1 = image_matrix(img1)\n",
    "    im2 = image_matrix(img2)\n",
    "    combine = np.hstack((im1,im2))\n",
    "    \n",
    "    return combine\n",
    "\n",
    "img_final = stack_images(img1, img2)\n",
    "\n",
    "# for i in range(0,600,50):\n",
    "#     cv2.putText(img, str(y), (20, i+35), cv2.FONT_HERSHEY_SIMPLEX, 0.5, black, 1)\n",
    "#     y = y + 1 \n",
    "\n",
    "cv2.imwrite(os.path.join(path,'Nike.jpg'), img_final)\n",
    "print(f'[INFO] Image saved!')"
   ]
  },
  {
   "cell_type": "code",
   "execution_count": 258,
   "id": "8b52e5ac",
   "metadata": {},
   "outputs": [],
   "source": [
    "# compare_method_names = {'0' : 'Correlation ', '1' : 'Chi_square  ', '2':'Intersection', '3':'Bhatacharyya'}"
   ]
  },
  {
   "cell_type": "code",
   "execution_count": 338,
   "id": "4bbfdf2e",
   "metadata": {},
   "outputs": [],
   "source": [
    "chis = []\n",
    "\n",
    "for hist1, hist2 in zip(hist_1, hist_2):\n",
    "    chi_2 = cv2.compareHist(hist1, hist2, 1)\n",
    "    chis.append(chi_2)"
   ]
  },
  {
   "cell_type": "code",
   "execution_count": 339,
   "id": "e954e854",
   "metadata": {},
   "outputs": [],
   "source": [
    "array = np.array(chis)"
   ]
  },
  {
   "cell_type": "code",
   "execution_count": 340,
   "id": "eb9d3e4e",
   "metadata": {},
   "outputs": [],
   "source": [
    "df = pd.DataFrame(chis)"
   ]
  },
  {
   "cell_type": "code",
   "execution_count": 341,
   "id": "5c257a36",
   "metadata": {},
   "outputs": [
    {
     "data": {
      "text/html": [
       "<div>\n",
       "<style scoped>\n",
       "    .dataframe tbody tr th:only-of-type {\n",
       "        vertical-align: middle;\n",
       "    }\n",
       "\n",
       "    .dataframe tbody tr th {\n",
       "        vertical-align: top;\n",
       "    }\n",
       "\n",
       "    .dataframe thead th {\n",
       "        text-align: right;\n",
       "    }\n",
       "</style>\n",
       "<table border=\"1\" class=\"dataframe\">\n",
       "  <thead>\n",
       "    <tr style=\"text-align: right;\">\n",
       "      <th></th>\n",
       "      <th>0</th>\n",
       "    </tr>\n",
       "  </thead>\n",
       "  <tbody>\n",
       "    <tr>\n",
       "      <th>count</th>\n",
       "      <td>240.000000</td>\n",
       "    </tr>\n",
       "    <tr>\n",
       "      <th>mean</th>\n",
       "      <td>14.584539</td>\n",
       "    </tr>\n",
       "    <tr>\n",
       "      <th>std</th>\n",
       "      <td>207.560791</td>\n",
       "    </tr>\n",
       "    <tr>\n",
       "      <th>min</th>\n",
       "      <td>0.000000</td>\n",
       "    </tr>\n",
       "    <tr>\n",
       "      <th>25%</th>\n",
       "      <td>0.000000</td>\n",
       "    </tr>\n",
       "    <tr>\n",
       "      <th>50%</th>\n",
       "      <td>0.000000</td>\n",
       "    </tr>\n",
       "    <tr>\n",
       "      <th>75%</th>\n",
       "      <td>0.001570</td>\n",
       "    </tr>\n",
       "    <tr>\n",
       "      <th>max</th>\n",
       "      <td>3203.734022</td>\n",
       "    </tr>\n",
       "  </tbody>\n",
       "</table>\n",
       "</div>"
      ],
      "text/plain": [
       "                 0\n",
       "count   240.000000\n",
       "mean     14.584539\n",
       "std     207.560791\n",
       "min       0.000000\n",
       "25%       0.000000\n",
       "50%       0.000000\n",
       "75%       0.001570\n",
       "max    3203.734022"
      ]
     },
     "execution_count": 341,
     "metadata": {},
     "output_type": "execute_result"
    }
   ],
   "source": [
    "df.describe()"
   ]
  },
  {
   "cell_type": "code",
   "execution_count": 263,
   "id": "84496291",
   "metadata": {},
   "outputs": [],
   "source": [
    "# cv2.imshow('1', seg_1[30])\n",
    "# cv2.imshow('2', seg_2[30])\n",
    "# cv2.waitKey(0)"
   ]
  },
  {
   "cell_type": "code",
   "execution_count": 264,
   "id": "7a10c387",
   "metadata": {},
   "outputs": [],
   "source": [
    "# cv2.destroyAllWindows()"
   ]
  },
  {
   "cell_type": "code",
   "execution_count": 342,
   "id": "db4f22ac",
   "metadata": {},
   "outputs": [
    {
     "data": {
      "text/plain": [
       "(array([239.,   0.,   0.,   0.,   0.,   0.,   0.,   0.,   0.,   1.]),\n",
       " array([   0.        ,  320.37340218,  640.74680436,  961.12020654,\n",
       "        1281.49360873, 1601.86701091, 1922.24041309, 2242.61381527,\n",
       "        2562.98721745, 2883.36061963, 3203.73402181]),\n",
       " <BarContainer object of 10 artists>)"
      ]
     },
     "execution_count": 342,
     "metadata": {},
     "output_type": "execute_result"
    },
    {
     "data": {
      "image/png": "[encoded data removed]",
      "text/plain": [
       "<Figure size 432x288 with 1 Axes>"
      ]
     },
     "metadata": {
      "needs_background": "light"
     },
     "output_type": "display_data"
    }
   ],
   "source": [
    "plt.hist(df)"
   ]
  },
  {
   "cell_type": "code",
   "execution_count": 343,
   "id": "f8f728a0",
   "metadata": {},
   "outputs": [],
   "source": [
    "array_reshaped = array.reshape( int(rows), int(columns))"
   ]
  },
  {
   "cell_type": "code",
   "execution_count": 344,
   "id": "fafbed06",
   "metadata": {
    "scrolled": true
   },
   "outputs": [
    {
     "data": {
      "text/plain": [
       "0.9999999403953552"
      ]
     },
     "execution_count": 344,
     "metadata": {},
     "output_type": "execute_result"
    }
   ],
   "source": [
    "cv2.compareHist(hist_1[93], hist_2[3], 2)"
   ]
  },
  {
   "cell_type": "code",
   "execution_count": 356,
   "id": "2ebd3a5b",
   "metadata": {
    "scrolled": false
   },
   "outputs": [
    {
     "data": {
      "image/png": "[encoded data removed]",
      "text/plain": [
       "<Figure size 432x288 with 2 Axes>"
      ]
     },
     "metadata": {
      "needs_background": "light"
     },
     "output_type": "display_data"
    }
   ],
   "source": [
    "fig_1 = sns.heatmap(array_reshaped, vmin= 0.0, vmax=1, cmap=\"YlGnBu\", annot=False, linewidths=1, linecolor='black' )"
   ]
  },
  {
   "cell_type": "code",
   "execution_count": 363,
   "id": "84bee42e",
   "metadata": {
    "scrolled": true
   },
   "outputs": [
    {
     "data": {
      "text/plain": [
       "<matplotlib.image.AxesImage at 0x2828b15bf70>"
      ]
     },
     "execution_count": 363,
     "metadata": {},
     "output_type": "execute_result"
    },
    {
     "data": {
      "image/png": "[encoded data removed]",
      "text/plain": [
       "<Figure size 432x288 with 1 Axes>"
      ]
     },
     "metadata": {
      "needs_background": "light"
     },
     "output_type": "display_data"
    }
   ],
   "source": [
    "picture = cv2.imread('Nike.jpg')\n",
    "plt.imshow(picture)"
   ]
  },
  {
   "cell_type": "code",
   "execution_count": 362,
   "id": "a0a69488",
   "metadata": {},
   "outputs": [
    {
     "data": {
      "text/plain": [
       "(1140, 3200, 3)"
      ]
     },
     "execution_count": 362,
     "metadata": {},
     "output_type": "execute_result"
    }
   ],
   "source": []
  },
  {
   "cell_type": "code",
   "execution_count": 358,
   "id": "b6c84a07",
   "metadata": {},
   "outputs": [],
   "source": [
    "figure = fig_1.get_figure()\n",
    "figure.savefig('fig_1.png', dpi=400)"
   ]
  },
  {
   "cell_type": "code",
   "execution_count": 346,
   "id": "b5bf0fb7",
   "metadata": {
    "scrolled": false
   },
   "outputs": [
    {
     "data": {
      "text/plain": [
       "1.0537597478714684"
      ]
     },
     "execution_count": 346,
     "metadata": {},
     "output_type": "execute_result"
    }
   ],
   "source": [
    "cv2.compareHist(hist_1[165], hist_2[165], 1)"
   ]
  },
  {
   "cell_type": "code",
   "execution_count": 277,
   "id": "6989aea7",
   "metadata": {},
   "outputs": [],
   "source": [
    "# cv2.imshow('1', seg_1[30])\n",
    "# cv2.imshow('2', seg_2[30])\n",
    "# cv2.waitKey(0)\n",
    "# cv2.destroyAllWindows()"
   ]
  },
  {
   "cell_type": "code",
   "execution_count": 291,
   "id": "3d0fac49",
   "metadata": {},
   "outputs": [
    {
     "data": {
      "text/plain": [
       "0    0.194064\n",
       "dtype: float64"
      ]
     },
     "execution_count": 291,
     "metadata": {},
     "output_type": "execute_result"
    }
   ],
   "source": [
    "df.min()"
   ]
  },
  {
   "cell_type": "code",
   "execution_count": 310,
   "id": "86e74507",
   "metadata": {},
   "outputs": [
    {
     "data": {
      "text/plain": [
       "16"
      ]
     },
     "execution_count": 310,
     "metadata": {},
     "output_type": "execute_result"
    }
   ],
   "source": [
    "len(array_reshaped[1])"
   ]
  },
  {
   "cell_type": "code",
   "execution_count": 312,
   "id": "3a3b1606",
   "metadata": {},
   "outputs": [
    {
     "data": {
      "text/plain": [
       "240"
      ]
     },
     "execution_count": 312,
     "metadata": {},
     "output_type": "execute_result"
    }
   ],
   "source": [
    "len(df)"
   ]
  },
  {
   "cell_type": "code",
   "execution_count": null,
   "id": "011f6367",
   "metadata": {},
   "outputs": [],
   "source": []
  }
 ],
 "metadata": {
  "kernelspec": {
   "display_name": "Python 3",
   "language": "python",
   "name": "python3"
  },
  "language_info": {
   "codemirror_mode": {
    "name": "ipython",
    "version": 3
   },
   "file_extension": ".py",
   "mimetype": "text/x-python",
   "name": "python",
   "nbconvert_exporter": "python",
   "pygments_lexer": "ipython3",
   "version": "3.9.13"
  }
 },
 "nbformat": 4,
 "nbformat_minor": 5
}
